{
 "cells": [
  {
   "cell_type": "markdown",
   "id": "b9efbb16-c623-4e08-b2df-d2914f8c96b4",
   "metadata": {},
   "source": [
    "### create md"
   ]
  },
  {
   "cell_type": "code",
   "execution_count": 63,
   "id": "0a0f9936-6be7-461d-b095-951ceee458cc",
   "metadata": {},
   "outputs": [],
   "source": [
    "file_out = 'Ocean_Dubai_tags.md'\n",
    "fout = open(file_out, 'w')\n",
    "\n",
    "str1 = '''\n",
    "## Example\n",
    "example\n",
    "- example\n",
    "'''\n",
    "for f in os.listdir('imgs/'):\n",
    "    \n",
    "    if f[0] == '.':\n",
    "        continue\n",
    "    # fout.write(str1)\n",
    "    if f[-3:] == 'png':\n",
    "        a = f'<img src=\"imgs/{f}\" alt=\"{f}\"  style=\"width:100%;\" >'\n",
    "        # a = f'![{f}](imgs/{f})'\n",
    "        fout.write(a)\n",
    "    if f[-4:] == 'html':\n",
    "        fout.write(open(f'imgs/{f}').read())\n",
    "    \n",
    "    fout.write('\\n\\n')\n",
    "    \n",
    "fout.close()"
   ]
  },
  {
   "cell_type": "markdown",
   "id": "912ff30f-f60f-474e-aa46-d871eab01bdd",
   "metadata": {},
   "source": [
    "### create pdf"
   ]
  },
  {
   "cell_type": "code",
   "execution_count": 74,
   "id": "6ef924b4-f676-4514-9841-21417defb5a6",
   "metadata": {},
   "outputs": [],
   "source": [
    "file_out = 'Ocean_Dubai.md'\n",
    "\n",
    "from markdown_pdf import MarkdownPdf, Section\n",
    "\n",
    "pdf = MarkdownPdf()\n",
    "pdf.meta[\"title\"] = 'Ocean_Dubai'\n",
    "\n",
    "markdown_content = open(file_out).read()\n",
    "\n",
    "pdf.add_section(Section(markdown_content, toc=False))\n",
    "pdf.save('Ocean_Dubai.pdf')"
   ]
  },
  {
   "cell_type": "code",
   "execution_count": null,
   "id": "9ddef7a3-1348-47da-a57e-9792c90e8d91",
   "metadata": {},
   "outputs": [],
   "source": []
  }
 ],
 "metadata": {
  "kernelspec": {
   "display_name": "Python 3 (ipykernel)",
   "language": "python",
   "name": "python3"
  },
  "language_info": {
   "codemirror_mode": {
    "name": "ipython",
    "version": 3
   },
   "file_extension": ".py",
   "mimetype": "text/x-python",
   "name": "python",
   "nbconvert_exporter": "python",
   "pygments_lexer": "ipython3",
   "version": "3.11.5"
  }
 },
 "nbformat": 4,
 "nbformat_minor": 5
}
